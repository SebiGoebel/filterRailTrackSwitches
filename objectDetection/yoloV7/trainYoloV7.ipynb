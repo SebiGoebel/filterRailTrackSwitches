{
 "cells": [
  {
   "cell_type": "code",
   "execution_count": 1,
   "metadata": {},
   "outputs": [
    {
     "name": "stdout",
     "output_type": "stream",
     "text": [
      "Tue Apr 23 14:28:33 2024       \n",
      "+-----------------------------------------------------------------------------------------+\n",
      "| NVIDIA-SMI 550.65                 Driver Version: 551.86         CUDA Version: 12.4     |\n",
      "|-----------------------------------------+------------------------+----------------------+\n",
      "| GPU  Name                 Persistence-M | Bus-Id          Disp.A | Volatile Uncorr. ECC |\n",
      "| Fan  Temp   Perf          Pwr:Usage/Cap |           Memory-Usage | GPU-Util  Compute M. |\n",
      "|                                         |                        |               MIG M. |\n",
      "|=========================================+========================+======================|\n"
     ]
    }
   ],
   "source": [
    "!nvidia-smi"
   ]
  },
  {
   "cell_type": "markdown",
   "metadata": {},
   "source": [
    "### Preperation of directory"
   ]
  },
  {
   "cell_type": "code",
   "execution_count": 2,
   "metadata": {},
   "outputs": [
    {
     "name": "stdout",
     "output_type": "stream",
     "text": [
      "/home/sebi/filterRailTrackSwitches/objectDetection/yoloV7\n"
     ]
    }
   ],
   "source": [
    "import os\n",
    "\n",
    "os.chdir(\"/home/sebi/filterRailTrackSwitches/objectDetection/yoloV7/\")  # change dir to get the right one\n",
    "YOLOV7_DIR = os.getcwd()\n",
    "print(YOLOV7_DIR)"
   ]
  },
  {
   "cell_type": "markdown",
   "metadata": {},
   "source": [
    "### Train yolov7 on railSem19"
   ]
  },
  {
   "cell_type": "code",
   "execution_count": 9,
   "metadata": {},
   "outputs": [
    {
     "name": "stdout",
     "output_type": "stream",
     "text": [
      "/home/sebi/filterRailTrackSwitches/dataset/railSem19/rs19_split8500_onlySwitches\n",
      "/home/sebi/filterRailTrackSwitches/objectDetection/yoloV7/yolov7\n"
     ]
    }
   ],
   "source": [
    "SELECTED_DATASET = \"rs19_split8500_onlySwitches\"\n",
    "DATASET_DIR = f\"/home/sebi/filterRailTrackSwitches/dataset/railSem19/{SELECTED_DATASET}\"\n",
    "\n",
    "%cd {YOLOV7_DIR}/yolov7\n",
    "\n",
    "# command for training yolov7\n",
    "!python train.py --cfg cfg/training/yolov7.yaml --weights ../weights/yolov7_training.pt --name yolov7-default-parameters_onlySwitches_pretrainedCOCO --data /srv/cdl-eml/datasets/railsem19/rs19_split8500_onlySwitches/data.yaml --batch-size 32 --workers 8 --img 640 640 --hyp data/hyp.scratch.custom.yaml --epochs 500 --device 1"
   ]
  }
 ],
 "metadata": {
  "kernelspec": {
   "display_name": "venv_yolov7",
   "language": "python",
   "name": "python3"
  },
  "language_info": {
   "codemirror_mode": {
    "name": "ipython",
    "version": 3
   },
   "file_extension": ".py",
   "mimetype": "text/x-python",
   "name": "python",
   "nbconvert_exporter": "python",
   "pygments_lexer": "ipython3",
   "version": "3.8.10"
  }
 },
 "nbformat": 4,
 "nbformat_minor": 2
}
