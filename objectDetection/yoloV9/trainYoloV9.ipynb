{
 "cells": [
  {
   "cell_type": "code",
   "execution_count": 1,
   "metadata": {},
   "outputs": [
    {
     "name": "stdout",
     "output_type": "stream",
     "text": [
      "Tue Apr 23 14:45:39 2024       \n",
      "+-----------------------------------------------------------------------------------------+\n",
      "| NVIDIA-SMI 550.65                 Driver Version: 551.86         CUDA Version: 12.4     |\n",
      "|-----------------------------------------+------------------------+----------------------+\n",
      "| GPU  Name                 Persistence-M | Bus-Id          Disp.A | Volatile Uncorr. ECC |\n",
      "| Fan  Temp   Perf          Pwr:Usage/Cap |           Memory-Usage | GPU-Util  Compute M. |\n",
      "|                                         |                        |               MIG M. |\n",
      "|=========================================+========================+======================|\n"
     ]
    }
   ],
   "source": [
    "!nvidia-smi"
   ]
  },
  {
   "cell_type": "markdown",
   "metadata": {},
   "source": [
    "### Preperation of directory"
   ]
  },
  {
   "cell_type": "code",
   "execution_count": 2,
   "metadata": {},
   "outputs": [
    {
     "name": "stdout",
     "output_type": "stream",
     "text": [
      "/home/sebi/filterRailTrackSwitches/objectDetection/yoloV9\n"
     ]
    }
   ],
   "source": [
    "import os\n",
    "\n",
    "os.chdir(\"/home/sebi/filterRailTrackSwitches/objectDetection/yoloV9/\")  # change dir to get the right one\n",
    "YOLOV9_DIR = os.getcwd()\n",
    "print(YOLOV9_DIR)"
   ]
  },
  {
   "cell_type": "markdown",
   "metadata": {},
   "source": [
    "### Train yolov9 on railSem19"
   ]
  },
  {
   "cell_type": "code",
   "execution_count": 3,
   "metadata": {},
   "outputs": [
    {
     "name": "stdout",
     "output_type": "stream",
     "text": [
      "/home/sebi/filterRailTrackSwitches/objectDetection/yoloV9/yolov9\n",
      "\u001b[34m\u001b[1mtrain_dual: \u001b[0mweights=, cfg=models/detect/yolov9-c.yaml, data=/home/sebi/filterRailTrackSwitches/dataset/railSem19/rs19_split8500/data.yaml, hyp=hyp.scratch-high.yaml, epochs=1, batch_size=2, imgsz=640, rect=False, resume=False, nosave=False, noval=False, noautoanchor=False, noplots=False, evolve=None, bucket=, cache=None, image_weights=False, device=cpu, multi_scale=False, single_cls=False, optimizer=SGD, sync_bn=False, workers=8, project=runs/train, name=yolov9-c-dataset-test-training, exist_ok=False, quad=False, cos_lr=False, flat_cos_lr=False, fixed_lr=False, label_smoothing=0.0, patience=100, freeze=[0], save_period=-1, seed=0, local_rank=-1, min_items=0, close_mosaic=15, entity=None, upload_dataset=False, bbox_interval=-1, artifact_alias=latest\n",
      "YOLOv5 🚀 1e33dbb Python-3.8.10 torch-2.2.2+cu121 CPU\n",
      "\n",
      "\u001b[34m\u001b[1mhyperparameters: \u001b[0mlr0=0.01, lrf=0.01, momentum=0.937, weight_decay=0.0005, warmup_epochs=3.0, warmup_momentum=0.8, warmup_bias_lr=0.1, box=7.5, cls=0.5, cls_pw=1.0, dfl=1.5, obj_pw=1.0, iou_t=0.2, anchor_t=5.0, fl_gamma=0.0, hsv_h=0.015, hsv_s=0.7, hsv_v=0.4, degrees=0.0, translate=0.1, scale=0.9, shear=0.0, perspective=0.0, flipud=0.0, fliplr=0.5, mosaic=1.0, mixup=0.15, copy_paste=0.3\n",
      "\u001b[34m\u001b[1mClearML: \u001b[0mrun 'pip install clearml' to automatically track, visualize and remotely train YOLO 🚀 in ClearML\n",
      "\u001b[34m\u001b[1mComet: \u001b[0mrun 'pip install comet_ml' to automatically track and visualize YOLO 🚀 runs in Comet\n",
      "\u001b[34m\u001b[1mTensorBoard: \u001b[0mStart with 'tensorboard --logdir runs/train', view at http://localhost:6006/\n",
      "\n",
      "                 from  n    params  module                                  arguments                     \n",
      "  0                -1  1         0  models.common.Silence                   []                            \n",
      "  1                -1  1      1856  models.common.Conv                      [3, 64, 3, 2]                 \n",
      "  2                -1  1     73984  models.common.Conv                      [64, 128, 3, 2]               \n",
      "  3                -1  1    212864  models.common.RepNCSPELAN4              [128, 256, 128, 64, 1]        \n",
      "  4                -1  1    164352  models.common.ADown                     [256, 256]                    \n",
      "  5                -1  1    847616  models.common.RepNCSPELAN4              [256, 512, 256, 128, 1]       \n",
      "  6                -1  1    656384  models.common.ADown                     [512, 512]                    \n",
      "  7                -1  1   2857472  models.common.RepNCSPELAN4              [512, 512, 512, 256, 1]       \n",
      "  8                -1  1    656384  models.common.ADown                     [512, 512]                    \n",
      "  9                -1  1   2857472  models.common.RepNCSPELAN4              [512, 512, 512, 256, 1]       \n",
      " 10                -1  1    656896  models.common.SPPELAN                   [512, 512, 256]               \n",
      " 11                -1  1         0  torch.nn.modules.upsampling.Upsample    [None, 2, 'nearest']          \n",
      " 12           [-1, 7]  1         0  models.common.Concat                    [1]                           \n",
      " 13                -1  1   3119616  models.common.RepNCSPELAN4              [1024, 512, 512, 256, 1]      \n",
      " 14                -1  1         0  torch.nn.modules.upsampling.Upsample    [None, 2, 'nearest']          \n",
      " 15           [-1, 5]  1         0  models.common.Concat                    [1]                           \n",
      " 16                -1  1    912640  models.common.RepNCSPELAN4              [1024, 256, 256, 128, 1]      \n",
      " 17                -1  1    164352  models.common.ADown                     [256, 256]                    \n",
      " 18          [-1, 13]  1         0  models.common.Concat                    [1]                           \n",
      " 19                -1  1   2988544  models.common.RepNCSPELAN4              [768, 512, 512, 256, 1]       \n",
      " 20                -1  1    656384  models.common.ADown                     [512, 512]                    \n",
      " 21          [-1, 10]  1         0  models.common.Concat                    [1]                           \n",
      " 22                -1  1   3119616  models.common.RepNCSPELAN4              [1024, 512, 512, 256, 1]      \n",
      " 23                 5  1    131328  models.common.CBLinear                  [512, [256]]                  \n",
      " 24                 7  1    393984  models.common.CBLinear                  [512, [256, 512]]             \n",
      " 25                 9  1    656640  models.common.CBLinear                  [512, [256, 512, 512]]        \n",
      " 26                 0  1      1856  models.common.Conv                      [3, 64, 3, 2]                 \n",
      " 27                -1  1     73984  models.common.Conv                      [64, 128, 3, 2]               \n",
      " 28                -1  1    212864  models.common.RepNCSPELAN4              [128, 256, 128, 64, 1]        \n",
      " 29                -1  1    164352  models.common.ADown                     [256, 256]                    \n",
      " 30  [23, 24, 25, -1]  1         0  models.common.CBFuse                    [[0, 0, 0]]                   \n",
      " 31                -1  1    847616  models.common.RepNCSPELAN4              [256, 512, 256, 128, 1]       \n",
      " 32                -1  1    656384  models.common.ADown                     [512, 512]                    \n",
      " 33      [24, 25, -1]  1         0  models.common.CBFuse                    [[1, 1]]                      \n",
      " 34                -1  1   2857472  models.common.RepNCSPELAN4              [512, 512, 512, 256, 1]       \n",
      " 35                -1  1    656384  models.common.ADown                     [512, 512]                    \n",
      " 36          [25, -1]  1         0  models.common.CBFuse                    [[2]]                         \n",
      " 37                -1  1   2857472  models.common.RepNCSPELAN4              [512, 512, 512, 256, 1]       \n",
      " 38[31, 34, 37, 16, 19, 22]  1  21563612  models.yolo.DualDDetect                 [10, [512, 512, 512, 256, 512, 512]]\n",
      "yolov9-c summary: 962 layers, 51020380 parameters, 51020348 gradients, 239.0 GFLOPs\n",
      "\n",
      "\u001b[34m\u001b[1moptimizer:\u001b[0m SGD(lr=0.01) with parameter groups 238 weight(decay=0.0), 255 weight(decay=0.0005), 253 bias\n",
      "\u001b[34m\u001b[1malbumentations: \u001b[0mBlur(p=0.01, blur_limit=(3, 7)), MedianBlur(p=0.01, blur_limit=(3, 7)), ToGray(p=0.01), CLAHE(p=0.01, clip_limit=(1, 4.0), tile_grid_size=(8, 8))\n",
      "\u001b[34m\u001b[1mtrain: \u001b[0mScanning /home/sebi/filterRailTrackSwitches/dataset/railSem19/rs19_split8\u001b[0m\n",
      "\u001b[34m\u001b[1mtrain: \u001b[0mNew cache created: /home/sebi/filterRailTrackSwitches/dataset/railSem19/rs19_split8500/train/labels.cache\n",
      "\u001b[34m\u001b[1mval: \u001b[0mScanning /home/sebi/filterRailTrackSwitches/dataset/railSem19/rs19_split850\u001b[0m\n",
      "\u001b[34m\u001b[1mval: \u001b[0mNew cache created: /home/sebi/filterRailTrackSwitches/dataset/railSem19/rs19_split8500/valid/labels.cache\n",
      "Plotting labels to runs/train/yolov9-c-dataset-test-training/labels.jpg... \n",
      "Image sizes 640 train, 640 val\n",
      "Using 2 dataloader workers\n",
      "Logging results to \u001b[1mruns/train/yolov9-c-dataset-test-training\u001b[0m\n",
      "Starting training for 1 epochs...\n",
      "\n",
      "      Epoch    GPU_mem   box_loss   cls_loss   dfl_loss  Instances       Size\n",
      "        0/0         0G       7.94      16.94      5.575          6        640:  WARNING ⚠️ TensorBoard graph visualization failure Only tensors, lists, tuples of tensors, or dictionary of tensors can be output from traced functions\n",
      "        0/0         0G       4.26      16.59      3.127         11        640:  "
     ]
    }
   ],
   "source": [
    "# select dataset\n",
    "SELECTED_DATASET = \"rs19_split8500\"\n",
    "DATASET_DIR = f\"/home/sebi/filterRailTrackSwitches/dataset/railSem19/{SELECTED_DATASET}\"\n",
    "\n",
    "%cd {YOLOV9_DIR}/yolov9\n",
    "\n",
    "# train yolov9 models\n",
    "!python train_dual.py \\\n",
    "    --cfg models/detect/yolov9-c.yaml \\\n",
    "    --weights '' \\\n",
    "    --name yolov9-c-dataset-test-training \\\n",
    "    --data {DATASET_DIR}/data.yaml \\\n",
    "    --batch 2 \\\n",
    "    --workers 8 \\\n",
    "    --img 640 \\\n",
    "    --hyp hyp.scratch-high.yaml \\\n",
    "    --min-items 0 \\\n",
    "    --epochs 1 \\\n",
    "    --close-mosaic 15 \\\n",
    "    --device cpu\n",
    "\n",
    "# train gelan models\n",
    "#!python train.py \\\n",
    "#    --cfg models/detect/gelan-c.yaml \\\n",
    "#    --weights '' \\\n",
    "#    --name gelan-c \\\n",
    "#    --data {YOLOV9_DIR}/{DATASET_DIR}/data.yaml \\\n",
    "#    --batch 32 \\\n",
    "#    --workers 8 \\\n",
    "#    --img 640 \\\n",
    "#    --hyp hyp.scratch-high.yaml \\\n",
    "#    --min-items 0 \\\n",
    "#    --epochs 1 \\\n",
    "#    --close-mosaic 15 \\\n",
    "#    --device 0"
   ]
  }
 ],
 "metadata": {
  "kernelspec": {
   "display_name": "venv_yoloV9",
   "language": "python",
   "name": "python3"
  },
  "language_info": {
   "codemirror_mode": {
    "name": "ipython",
    "version": 3
   },
   "file_extension": ".py",
   "mimetype": "text/x-python",
   "name": "python",
   "nbconvert_exporter": "python",
   "pygments_lexer": "ipython3",
   "version": "3.8.10"
  }
 },
 "nbformat": 4,
 "nbformat_minor": 2
}
